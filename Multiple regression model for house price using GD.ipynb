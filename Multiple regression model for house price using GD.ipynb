{
 "cells": [
  {
   "cell_type": "markdown",
   "id": "be4bfb56",
   "metadata": {},
   "source": [
    "## Multiple regression model for Forecasting House Prices using Gradient Descent Algorithm\n",
    "\n",
    "#### Assignment II\n",
    "\n",
    "#### MRArabshahi"
   ]
  },
  {
   "cell_type": "code",
   "execution_count": 1,
   "id": "85db77da",
   "metadata": {},
   "outputs": [],
   "source": [
    "import pandas as pd\n",
    "import numpy as np \n",
    "import pylab as pl\n",
    "import matplotlib.pyplot as plt\n",
    "import seaborn as sb\n",
    "%matplotlib inline"
   ]
  },
  {
   "cell_type": "code",
   "execution_count": 2,
   "id": "bb847bd0",
   "metadata": {},
   "outputs": [],
   "source": [
    "dtype_dict = {'bathrooms':float, 'waterfront':int, 'sqft_above':int, 'sqft_living15':float, 'grade':int, 'yr_renovated':int, 'price':float, 'bedrooms':float, 'zipcode':str, 'long':float, 'sqft_lot15':float, 'sqft_living':float, 'floors':str, 'condition':int, 'lat':float, 'date':str, 'sqft_basement':int, 'yr_built':int, 'id':str, 'sqft_lot':int, 'view':int}"
   ]
  },
  {
   "cell_type": "markdown",
   "id": "9bc4f86e",
   "metadata": {},
   "source": [
    "### Reading data from Excel"
   ]
  },
  {
   "cell_type": "code",
   "execution_count": 3,
   "id": "89653a05",
   "metadata": {},
   "outputs": [],
   "source": [
    "sales = pd.read_excel(\"C:\\\\Users\\\\Mohammad Reza\\\\Desktop\\\\Corsera\\\\Machine Learning-Regression\\\\W2\\\\6. Assignments\\\\2\\\\kc_house_data.xlsx\")\n",
    "\n",
    "House_Sales_trainingdata = pd.read_excel(\"C:\\\\Users\\\\Mohammad Reza\\\\Desktop\\\\Corsera\\\\Machine Learning-Regression\\\\W2\\\\6. Assignments\\\\2\\\\kc_house_train_data.xlsx\")\n",
    "#House_Sales_trainingdata\n",
    "\n",
    "House_Sales_testdata = pd.read_excel(\"C:\\\\Users\\\\Mohammad Reza\\\\Desktop\\\\Corsera\\\\Machine Learning-Regression\\\\W2\\\\6. Assignments\\\\2\\\\kc_house_test_data.xlsx\")\n",
    "#House_Sales_testdata\n",
    "\n",
    "features_pd  = sales['lat']\n",
    "feature_matrix = features_pd.to_numpy()\n",
    "#sales['constant'] = 1\n",
    "#sales\n",
    "#type (features_pd)\n",
    "#type (feature_matrix)\n"
   ]
  },
  {
   "cell_type": "code",
   "execution_count": 4,
   "id": "c9a8d555",
   "metadata": {},
   "outputs": [],
   "source": [
    "def get_numpy_data(dataset, features, output):\n",
    "    \n",
    "    dataset['constant'] = 1 # this is how you add a constant column to a dataset\n",
    "    # add the column 'constant' to the front of the features list so that we can extract it along with the others:\n",
    "    features = ['constant'] + features # this is how you combine two lists\n",
    "    # select the columns of data_SFrame given by the features list into the SFrame features_sframe (now including constant):\n",
    "    features_pd  = dataset[features]\n",
    "    # the following line will convert the features_sframe into a numpy matrix:\n",
    "    feature_matrix = features_pd.to_numpy()\n",
    "    # assign the column of data_sframe associated with the output to the SArray output_sarray\n",
    "    output_sarray = dataset[output]\n",
    "    # the following will convert the SArray into a numpy array by first converting it to a list\n",
    "    output_array = output_sarray.to_numpy()\n",
    "    return(feature_matrix, output_array)"
   ]
  },
  {
   "cell_type": "code",
   "execution_count": 30,
   "id": "ae29c319",
   "metadata": {},
   "outputs": [
    {
     "name": "stdout",
     "output_type": "stream",
     "text": [
      "Features : [   1 1180]\n",
      "Price : 221900\n"
     ]
    }
   ],
   "source": [
    "(example_features, example_output) = get_numpy_data(sales, ['sqft_living'], 'price')\n",
    "print ('Features :',example_features[0,:])\n",
    "print ('Price :', example_output[0])"
   ]
  },
  {
   "cell_type": "code",
   "execution_count": 6,
   "id": "2cba5ff5",
   "metadata": {},
   "outputs": [
    {
     "name": "stdout",
     "output_type": "stream",
     "text": [
      "Predicted_value = 0.0\n"
     ]
    }
   ],
   "source": [
    "my_weights = np.array([0., 0.]) # the example weights\n",
    "my_features = example_features[0,:] # we'll use the first data point\n",
    "predicted_value = np.dot(my_features, my_weights)\n",
    "print ('Predicted_value =', predicted_value)\n",
    "\n"
   ]
  },
  {
   "cell_type": "code",
   "execution_count": 7,
   "id": "ab7bdccf",
   "metadata": {},
   "outputs": [],
   "source": [
    "def predict_output(feature_matrix, weights):\n",
    "    # assume feature_matrix is a numpy matrix containing the features as columns and weights is a corresponding numpy array\n",
    "    # create the predictions vector by using np.dot()\n",
    "    predictions = np.dot(feature_matrix, weights)\n",
    "    return(predictions)"
   ]
  },
  {
   "cell_type": "code",
   "execution_count": 8,
   "id": "62557b11",
   "metadata": {},
   "outputs": [
    {
     "name": "stdout",
     "output_type": "stream",
     "text": [
      "0.0\n",
      "0.0\n",
      "[-221900. -538000. -180000. ... -402101. -400000. -325000.]\n"
     ]
    }
   ],
   "source": [
    "test_predictions = predict_output(example_features, my_weights)\n",
    "#test_predictions                             an array of predictions\n",
    "print (test_predictions[0])                   # should be 1181.0\n",
    "print (test_predictions[1])                   # should be 2571.0\n",
    "errors = test_predictions-example_output\n",
    "print (errors) \n"
   ]
  },
  {
   "cell_type": "markdown",
   "id": "138f3ab1",
   "metadata": {},
   "source": [
    "### Computing the derivative\n"
   ]
  },
  {
   "cell_type": "code",
   "execution_count": 27,
   "id": "6a19269f",
   "metadata": {},
   "outputs": [],
   "source": [
    "def feature_derivative(errors, feature_matrix):\n",
    "    derivative = 2*np.dot(errors, feature_matrix)\n",
    "    return(derivative)"
   ]
  },
  {
   "cell_type": "code",
   "execution_count": 29,
   "id": "5b371c5f",
   "metadata": {},
   "outputs": [
    {
     "ename": "IndexError",
     "evalue": "invalid index to scalar variable.",
     "output_type": "error",
     "traceback": [
      "\u001b[1;31m---------------------------------------------------------------------------\u001b[0m",
      "\u001b[1;31mIndexError\u001b[0m                                Traceback (most recent call last)",
      "\u001b[1;32m~\\AppData\\Local\\Temp\\ipykernel_1052\\811758572.py\u001b[0m in \u001b[0;36m<module>\u001b[1;34m\u001b[0m\n\u001b[0;32m      1\u001b[0m \u001b[0mtest_derivative\u001b[0m \u001b[1;33m=\u001b[0m \u001b[0mfeature_derivative\u001b[0m\u001b[1;33m(\u001b[0m\u001b[0merrors\u001b[0m\u001b[1;33m,\u001b[0m \u001b[0mexample_features\u001b[0m\u001b[1;33m[\u001b[0m\u001b[1;33m:\u001b[0m\u001b[1;33m,\u001b[0m\u001b[1;36m0\u001b[0m\u001b[1;33m]\u001b[0m\u001b[1;33m)\u001b[0m\u001b[1;33m\u001b[0m\u001b[1;33m\u001b[0m\u001b[0m\n\u001b[0;32m      2\u001b[0m \u001b[1;31m#test_predictions                             an array of predictions\u001b[0m\u001b[1;33m\u001b[0m\u001b[1;33m\u001b[0m\u001b[0m\n\u001b[1;32m----> 3\u001b[1;33m \u001b[0mprint\u001b[0m \u001b[1;33m(\u001b[0m\u001b[0mtest_derivative\u001b[0m\u001b[1;33m[\u001b[0m\u001b[1;36m0\u001b[0m\u001b[1;33m]\u001b[0m\u001b[1;33m)\u001b[0m                   \u001b[1;31m# should be 1181.0\u001b[0m\u001b[1;33m\u001b[0m\u001b[1;33m\u001b[0m\u001b[0m\n\u001b[0m\u001b[0;32m      4\u001b[0m \u001b[0mprint\u001b[0m \u001b[1;33m(\u001b[0m\u001b[0mtest_derivative\u001b[0m\u001b[1;33m[\u001b[0m\u001b[1;36m1\u001b[0m\u001b[1;33m]\u001b[0m\u001b[1;33m)\u001b[0m                   \u001b[1;31m# should be 2571.0\u001b[0m\u001b[1;33m\u001b[0m\u001b[1;33m\u001b[0m\u001b[0m\n\u001b[0;32m      5\u001b[0m \u001b[0mprint\u001b[0m \u001b[1;33m(\u001b[0m\u001b[0mexample_features\u001b[0m\u001b[1;33m)\u001b[0m\u001b[1;33m\u001b[0m\u001b[1;33m\u001b[0m\u001b[0m\n",
      "\u001b[1;31mIndexError\u001b[0m: invalid index to scalar variable."
     ]
    }
   ],
   "source": [
    "test_derivative = feature_derivative(errors, example_features)\n",
    "#test_predictions                             an array of predictions\n",
    "print (test_derivative[0])                   # should be 1181.0\n",
    "print (test_derivative[1])                   # should be 2571.0\n",
    "print (example_features)\n"
   ]
  },
  {
   "cell_type": "code",
   "execution_count": 11,
   "id": "e3869b8e",
   "metadata": {},
   "outputs": [],
   "source": [
    "from math import sqrt"
   ]
  },
  {
   "cell_type": "markdown",
   "id": "7d7f0491",
   "metadata": {},
   "source": [
    "## Gradient Descent"
   ]
  },
  {
   "cell_type": "code",
   "execution_count": 12,
   "id": "a6752aa4",
   "metadata": {},
   "outputs": [],
   "source": [
    "def regression_gradient_descent(feature_matrix, output, initial_weights, step_size, tolerance):\n",
    "    converged = False\n",
    "    num_steps = 0\n",
    "    weights = np.array(initial_weights)\n",
    "    while not converged:\n",
    "        predicted_value = predict_output(feature_matrix, weights)\n",
    "        errors = predicted_value-output\n",
    "        gradient_sum_squares = 0 # initialize the gradient\n",
    "        # while not converged, update each weight individually:\n",
    "        for i in range(len(weights)):\n",
    "            weight_derivative = feature_derivative(errors, feature_matrix[:,i])\n",
    "            \n",
    "            # add the squared value of the derivative to the gradient magnitude (for assessing convergence)\n",
    "            gradient_sum_squares += weight_derivative**2\n",
    "            \n",
    "            # subtract the step size times the derivative from the current weight\n",
    "            weights[i] -= step_size * weight_derivative\n",
    "            \n",
    "            # update the weight based on step size and derivative:\n",
    "        num_steps += 1    \n",
    "        gradient_magnitude = sqrt(gradient_sum_squares)\n",
    "        if gradient_magnitude < tolerance:\n",
    "            print ('step: {}'.format(num_steps))\n",
    "            print ('gradient: {}\\n'.format(gradient_magnitude))\n",
    "            converged = True\n",
    "    return(weights)"
   ]
  },
  {
   "cell_type": "markdown",
   "id": "18dd6594",
   "metadata": {},
   "source": [
    "###  Gradient descent for simple linear regression"
   ]
  },
  {
   "cell_type": "code",
   "execution_count": 97,
   "id": "a6aa9f71",
   "metadata": {},
   "outputs": [
    {
     "name": "stdout",
     "output_type": "stream",
     "text": [
      "range(0, 2)\n",
      "range(0, 17384)\n"
     ]
    }
   ],
   "source": [
    "# let's test out the gradient descent\n",
    "simple_features = ['sqft_living']\n",
    "my_output = 'price'\n",
    "(simple_feature_matrix, output) = get_numpy_data(House_Sales_trainingdata, simple_features, my_output)\n",
    "initial_weights = np.array([-47000., 1.])\n",
    "\n",
    "print (range(len(initial_weights))) # range gives sequence numbers between 0 and 2 ==> 0 1\n",
    "print (range(len(simple_feature_matrix)))\n",
    "step_size = 7e-12\n",
    "tolerance = 2.5e7"
   ]
  },
  {
   "cell_type": "code",
   "execution_count": 98,
   "id": "ca56bd2b",
   "metadata": {},
   "outputs": [
    {
     "name": "stdout",
     "output_type": "stream",
     "text": [
      "[[   1 1180]\n",
      " [   1 2570]\n",
      " [   1  770]\n",
      " ...\n",
      " [   1 1530]\n",
      " [   1 1600]\n",
      " [   1 1020]]\n",
      "[221900 538000 180000 ... 360000 400000 325000]\n"
     ]
    }
   ],
   "source": [
    "print (simple_feature_matrix)\n",
    "print (output)"
   ]
  },
  {
   "cell_type": "code",
   "execution_count": 99,
   "id": "a5d75ab1",
   "metadata": {},
   "outputs": [
    {
     "name": "stdout",
     "output_type": "stream",
     "text": [
      "step: 12\n",
      "gradient: 18320017.26821198\n",
      "\n",
      "[-46999.88716555    281.91211918]\n"
     ]
    }
   ],
   "source": [
    "coeffs = regression_gradient_descent(simple_feature_matrix, output, initial_weights, step_size, tolerance)\n",
    "print (coeffs)"
   ]
  },
  {
   "cell_type": "code",
   "execution_count": 100,
   "id": "5505b07d",
   "metadata": {},
   "outputs": [
    {
     "data": {
      "text/plain": [
       "[<matplotlib.lines.Line2D at 0x2248bdbeaf0>]"
      ]
     },
     "execution_count": 100,
     "metadata": {},
     "output_type": "execute_result"
    },
    {
     "data": {
      "image/png": "[encoded data removed]",
      "text/plain": [
       "<Figure size 640x480 with 1 Axes>"
      ]
     },
     "metadata": {},
     "output_type": "display_data"
    }
   ],
   "source": [
    "fig = plt.figure()\n",
    "ax1 = fig.add_subplot(111) \n",
    "ax1.scatter(House_Sales_trainingdata.sqft_living, House_Sales_trainingdata.price, color='blue')\n",
    "ax1.scatter(House_Sales_testdata.sqft_living, House_Sales_testdata.price, color='red')\n",
    "plt.plot(House_Sales_trainingdata.sqft_living, coeffs[1]*House_Sales_trainingdata.sqft_living + coeffs[0], '-g')\n",
    "\n"
   ]
  },
  {
   "cell_type": "markdown",
   "id": "7d7c63ea",
   "metadata": {},
   "source": [
    "### Prediction using test data"
   ]
  },
  {
   "cell_type": "code",
   "execution_count": 101,
   "id": "b60caa3a",
   "metadata": {},
   "outputs": [],
   "source": [
    "(test_simple_feature_matrix, test_output) = get_numpy_data(House_Sales_testdata, simple_features, my_output)"
   ]
  },
  {
   "cell_type": "code",
   "execution_count": 102,
   "id": "e71d8c33",
   "metadata": {},
   "outputs": [],
   "source": [
    "preds_test = predict_output(test_simple_feature_matrix, coeffs)"
   ]
  },
  {
   "cell_type": "code",
   "execution_count": 103,
   "id": "2963cd2f",
   "metadata": {},
   "outputs": [
    {
     "name": "stdout",
     "output_type": "stream",
     "text": [
      "First house predicted price for model 1: 356134.4432550024\n",
      "First house actual price: 310000\n"
     ]
    }
   ],
   "source": [
    "print ('First house predicted price for model 1:', preds_test[0])\n",
    "print ('First house actual price:', test_output[0])"
   ]
  },
  {
   "cell_type": "code",
   "execution_count": 104,
   "id": "c28f190f",
   "metadata": {},
   "outputs": [],
   "source": [
    "def rss_compute (preds_test, test_output):\n",
    "    rss = sum((preds_test-test_output) ** 2)\n",
    "    return (rss)"
   ]
  },
  {
   "cell_type": "code",
   "execution_count": 109,
   "id": "cd725a71",
   "metadata": {},
   "outputs": [
    {
     "name": "stdout",
     "output_type": "stream",
     "text": [
      "Residual sum of Squares: 275400044902128.78\n"
     ]
    }
   ],
   "source": [
    "example_rss=rss_compute (preds_test, test_output)\n",
    "print(\"Residual sum of Squares: %.2f\" % example_rss)"
   ]
  },
  {
   "cell_type": "markdown",
   "id": "e116e866",
   "metadata": {},
   "source": [
    "###  Gradient descent for multiple linear regression"
   ]
  },
  {
   "cell_type": "code",
   "execution_count": 106,
   "id": "b79ffdda",
   "metadata": {},
   "outputs": [
    {
     "name": "stdout",
     "output_type": "stream",
     "text": [
      "step: 274\n",
      "gradient: 997480716.6303005\n",
      "\n",
      "[-9.99999688e+04  2.45072603e+02  6.52795267e+01]\n"
     ]
    }
   ],
   "source": [
    "# let's test out the gradient descent\n",
    "multiple_features = ['sqft_living', 'sqft_living15']\n",
    "my_output = 'price'\n",
    "(multiple_feature_matrix, output) = get_numpy_data(House_Sales_trainingdata, multiple_features, my_output)\n",
    "initial_weights = np.array([-100000., 1., 1.])\n",
    "step_size = 4e-12\n",
    "tolerance = 1e9\n",
    "coeffs = regression_gradient_descent(multiple_feature_matrix, output, initial_weights, step_size, tolerance)\n",
    "print (coeffs)\n"
   ]
  },
  {
   "cell_type": "markdown",
   "id": "5515067c",
   "metadata": {},
   "source": [
    "### Prediction using test data for multiple regression model"
   ]
  },
  {
   "cell_type": "code",
   "execution_count": 107,
   "id": "393cc55b",
   "metadata": {},
   "outputs": [
    {
     "name": "stdout",
     "output_type": "stream",
     "text": [
      "First house predicted price for model 2: 356134.4432550024\n",
      "First house actual price: 310000\n"
     ]
    }
   ],
   "source": [
    "(test_simple_feature_matrix, test_output) = get_numpy_data(House_Sales_testdata, multiple_features, my_output)\n",
    "preds_test2 = predict_output(test_simple_feature_matrix, coeffs)\n",
    "print ('First house predicted price for model 2:', preds_test[0])\n",
    "print ('First house actual price:', test_output[0])"
   ]
  },
  {
   "cell_type": "code",
   "execution_count": 108,
   "id": "6072d896",
   "metadata": {},
   "outputs": [
    {
     "name": "stdout",
     "output_type": "stream",
     "text": [
      "Residual sum of Squares: 270263443629803.31\n"
     ]
    }
   ],
   "source": [
    "example_rss2 = rss_compute(preds_test2, test_output)\n",
    "print(\"Residual sum of Squares: %.2f\" % example_rss2)"
   ]
  },
  {
   "cell_type": "code",
   "execution_count": null,
   "id": "69c0ad79",
   "metadata": {},
   "outputs": [],
   "source": []
  }
 ],
 "metadata": {
  "kernelspec": {
   "display_name": "Python 3 (ipykernel)",
   "language": "python",
   "name": "python3"
  },
  "language_info": {
   "codemirror_mode": {
    "name": "ipython",
    "version": 3
   },
   "file_extension": ".py",
   "mimetype": "text/x-python",
   "name": "python",
   "nbconvert_exporter": "python",
   "pygments_lexer": "ipython3",
   "version": "3.9.13"
  }
 },
 "nbformat": 4,
 "nbformat_minor": 5
}
